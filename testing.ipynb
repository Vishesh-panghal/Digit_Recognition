{
 "cells": [
  {
   "cell_type": "markdown",
   "id": "39f789f2-f5cd-4879-880b-11daa73906de",
   "metadata": {},
   "source": [
    "## <font color='cyan'> Testing on user input image <font/>"
   ]
  },
  {
   "cell_type": "markdown",
   "id": "ad36a0c7-7806-442b-9cbe-fdc165ed3183",
   "metadata": {},
   "source": [
    "## <font color='gold'> ANN Testing<font/>"
   ]
  },
  {
   "cell_type": "code",
   "execution_count": 6,
   "id": "8615f711-d139-4d1f-b450-43f2758812c1",
   "metadata": {},
   "outputs": [
    {
     "data": {
      "text/plain": [
       "Model(\n",
       "  (network): Sequential(\n",
       "    (0): Linear(in_features=784, out_features=128, bias=True)\n",
       "    (1): BatchNorm1d(128, eps=1e-05, momentum=0.1, affine=True, track_running_stats=True)\n",
       "    (2): ReLU()\n",
       "    (3): Linear(in_features=128, out_features=64, bias=True)\n",
       "    (4): BatchNorm1d(64, eps=1e-05, momentum=0.1, affine=True, track_running_stats=True)\n",
       "    (5): ReLU()\n",
       "    (6): Linear(in_features=64, out_features=10, bias=True)\n",
       "  )\n",
       ")"
      ]
     },
     "execution_count": 6,
     "metadata": {},
     "output_type": "execute_result"
    }
   ],
   "source": [
    "import torch\n",
    "from torchvision import transforms\n",
    "from PIL import Image\n",
    "import torch.nn as nn\n",
    "\n",
    "class Model(nn.Module):\n",
    "    def __init__(self, num_features):\n",
    "        super().__init__()\n",
    "        self.network = nn.Sequential(\n",
    "            nn.Linear(num_features, 128),\n",
    "            nn.BatchNorm1d(128),\n",
    "            nn.ReLU(),\n",
    "            nn.Linear(128, 64),\n",
    "            nn.BatchNorm1d(64),\n",
    "            nn.ReLU(),\n",
    "            nn.Linear(64, 10),\n",
    "        )\n",
    "\n",
    "    def forward(self, features):\n",
    "        out = self.network(features)\n",
    "        return out\n",
    "\n",
    "model = Model(num_features=784)\n",
    "model.load_state_dict(torch.load(\"./model/(ANN)digit_recognition_model.pth\",weights_only=True))\n",
    "model.eval()"
   ]
  },
  {
   "cell_type": "code",
   "execution_count": 2,
   "id": "c7e6a690-a526-430c-9a9d-bab667db24df",
   "metadata": {},
   "outputs": [],
   "source": [
    "transform = transforms.Compose([\n",
    "    transforms.Grayscale(num_output_channels=1),\n",
    "    transforms.Resize((28, 28)),  # Resize to 28x28 pixels\n",
    "    transforms.ToTensor(),\n",
    "    transforms.Normalize((0.5,), (0.5,))\n",
    "])\n"
   ]
  },
  {
   "cell_type": "code",
   "execution_count": 23,
   "id": "762fe5f9-e2f4-450a-8154-0d9bd3afea6e",
   "metadata": {},
   "outputs": [],
   "source": [
    "def predict_digit_by_ANN(image_path):\n",
    "    # Open the image\n",
    "    image = Image.open(image_path)\n",
    "\n",
    "    # Apply the transformation\n",
    "    image = transform(image).unsqueeze(0)  # Add batch dimension (shape: 1, 1, 28, 28)\n",
    "\n",
    "    # Flatten the image to (1, 784)\n",
    "    image = image.view(-1, 28*28)  # Flatten the image\n",
    "\n",
    "    # Perform the inference\n",
    "    with torch.no_grad():\n",
    "        outputs = model(image)\n",
    "        _, predicted = torch.max(outputs, 1)\n",
    "        predicted_digit = predicted.item()\n",
    "\n",
    "    return predicted_digit\n"
   ]
  },
  {
   "cell_type": "code",
   "execution_count": 33,
   "id": "2c41fad9-bfd9-4371-b1b8-65abb9d8cb34",
   "metadata": {},
   "outputs": [
    {
     "name": "stdout",
     "output_type": "stream",
     "text": [
      "Predicted digit for ../digit2S.png: 2\n",
      "Predicted digit for ../digit3.png: 2\n",
      "Predicted digit for ../digit3a.png: 0\n",
      "Predicted digit for ../digit4.png: 0\n",
      "Predicted digit for ../digit5.png: 6\n",
      "Predicted digit for ../digit6.png: 6\n",
      "Predicted digit for ../digit6a.png: 6\n",
      "Predicted digit for ../digit7.png: 6\n",
      "Predicted digit for ../digit7S.jpg: 2\n",
      "Predicted digit for ../digit8.png: 2\n",
      "Predicted digit for ../digit9.png: 0\n",
      "Predicted digit for ../digit9a.png: 2\n"
     ]
    }
   ],
   "source": [
    "image_paths = [\"../digit2S.png\", \"../digit3.png\",\"../digit3a.png\",\"../digit4.png\",\"../digit5.png\", \"../digit6.png\",\"../digit6a.png\", \"../digit7.png\",\"../digit7S.jpg\", \"../digit8.png\", \"../digit9.png\",\"../digit9a.png\"]\n",
    "\n",
    "for image_path in image_paths:\n",
    "    predicted_digit = predict_digit_by_ANN(image_path)\n",
    "    print(f\"Predicted digit for {image_path}: {predicted_digit}\")"
   ]
  },
  {
   "cell_type": "markdown",
   "id": "5c762ab1-25d9-4277-ad25-e2d948738284",
   "metadata": {},
   "source": [
    "## <font color='gold'> CNN Testing<font/>"
   ]
  },
  {
   "cell_type": "code",
   "execution_count": 4,
   "id": "d51ce4f9-b82e-43ef-b49a-956176563ccc",
   "metadata": {},
   "outputs": [],
   "source": [
    "import torch.nn.functional as F"
   ]
  },
  {
   "cell_type": "code",
   "execution_count": 7,
   "id": "e95c04ec-28f3-42f1-ade7-50d6d2d45f2c",
   "metadata": {},
   "outputs": [
    {
     "data": {
      "text/plain": [
       "CNNModel(\n",
       "  (conv1): Conv2d(1, 32, kernel_size=(3, 3), stride=(1, 1), padding=(1, 1))\n",
       "  (conv2): Conv2d(32, 64, kernel_size=(3, 3), stride=(1, 1), padding=(1, 1))\n",
       "  (pool): MaxPool2d(kernel_size=2, stride=2, padding=0, dilation=1, ceil_mode=False)\n",
       "  (fc1): Linear(in_features=3136, out_features=128, bias=True)\n",
       "  (fc2): Linear(in_features=128, out_features=10, bias=True)\n",
       ")"
      ]
     },
     "execution_count": 7,
     "metadata": {},
     "output_type": "execute_result"
    }
   ],
   "source": [
    "class CNNModel(nn.Module):\n",
    "    def __init__(self):\n",
    "        super(CNNModel, self).__init__()\n",
    "        self.conv1 = nn.Conv2d(in_channels=1, out_channels=32, kernel_size=3, stride=1, padding=1)\n",
    "        self.conv2 = nn.Conv2d(in_channels=32, out_channels=64, kernel_size=3, stride=1, padding=1)\n",
    "        self.pool = nn.MaxPool2d(kernel_size=2, stride=2)\n",
    "        self.fc1 = nn.Linear(64 * 7 * 7, 128)  # Matches the training architecture\n",
    "        self.fc2 = nn.Linear(128, 10)\n",
    "\n",
    "    def forward(self, feature):\n",
    "        feature = F.relu(self.conv1(feature))\n",
    "        feature = self.pool(feature)\n",
    "        feature = F.relu(self.conv2(feature))\n",
    "        feature = self.pool(feature)\n",
    "        feature = feature.view(feature.size(0), -1)  # Flatten\n",
    "        feature = F.relu(self.fc1(feature))\n",
    "        feature = self.fc2(feature)\n",
    "        return feature\n",
    "\n",
    "cnn_model = CNNModel()\n",
    "\n",
    "# Load the saved state dictionary\n",
    "cnn_model.load_state_dict(torch.load('./model/(CNN)digit_recognition_model.pth', map_location=torch.device('cpu'),weights_only=True))\n",
    "\n",
    "cnn_model.eval()\n"
   ]
  },
  {
   "cell_type": "code",
   "execution_count": 8,
   "id": "4a69bab9-1dcc-46ed-aceb-2c47d6a63d2a",
   "metadata": {},
   "outputs": [],
   "source": [
    "from app.preprocessing import preprocess_image"
   ]
  },
  {
   "cell_type": "code",
   "execution_count": 9,
   "id": "9addbe3e-2ed6-4c07-a70d-ff81bd9c81f8",
   "metadata": {},
   "outputs": [],
   "source": [
    "def predict_digit_by_CNN(image_path):\n",
    "    # Preprocess the image\n",
    "    image_tensor = preprocess_image(image_path)\n",
    "\n",
    "    # Perform inference\n",
    "    with torch.no_grad():\n",
    "        outputs = cnn_model(image_tensor)  # Forward pass\n",
    "        _, predicted = torch.max(outputs, 1)  # Get predicted class\n",
    "        predicted_digit = predicted.item()\n",
    "\n",
    "    return predicted_digit"
   ]
  },
  {
   "cell_type": "code",
   "execution_count": 10,
   "id": "d3cd250d-7317-40d1-b374-52f96437f02c",
   "metadata": {},
   "outputs": [
    {
     "name": "stdout",
     "output_type": "stream",
     "text": [
      "Predicted digit for ../digit2S.png: 2\n",
      "Predicted digit for ../digit3a.png: 3\n",
      "Predicted digit for ../digit4.png: 4\n",
      "Predicted digit for ../digit5.png: 5\n",
      "Predicted digit for ../digit6a.png: 6\n",
      "Predicted digit for ../digit7.png: 7\n",
      "Predicted digit for ../digit7S.jpg: 7\n",
      "Predicted digit for ../digit8.png: 8\n",
      "Predicted digit for ../digit9a.png: 9\n"
     ]
    }
   ],
   "source": [
    "image_paths = [\"../digit2S.png\",\"../digit3a.png\",\"../digit4.png\",\"../digit5.png\",\"../digit6a.png\", \"../digit7.png\",\"../digit7S.jpg\", \"../digit8.png\",\"../digit9a.png\"]\n",
    "\n",
    "for image_path in image_paths:\n",
    "    predicted_digit = predict_digit_by_CNN(image_path)\n",
    "    print(f\"Predicted digit for {image_path}: {predicted_digit}\")\n"
   ]
  },
  {
   "cell_type": "markdown",
   "id": "8ddb39fe-2f4f-42d4-bf03-78e5b7e149a4",
   "metadata": {},
   "source": [
    "***"
   ]
  },
  {
   "cell_type": "code",
   "execution_count": null,
   "id": "513a421a-d07f-4778-896b-2679c6eddf38",
   "metadata": {},
   "outputs": [],
   "source": []
  }
 ],
 "metadata": {
  "kernelspec": {
   "display_name": "Python (Handwritten_Digit_Recognition)",
   "language": "python",
   "name": "handwritten_digit_recognition"
  },
  "language_info": {
   "codemirror_mode": {
    "name": "ipython",
    "version": 3
   },
   "file_extension": ".py",
   "mimetype": "text/x-python",
   "name": "python",
   "nbconvert_exporter": "python",
   "pygments_lexer": "ipython3",
   "version": "3.12.8"
  }
 },
 "nbformat": 4,
 "nbformat_minor": 5
}
